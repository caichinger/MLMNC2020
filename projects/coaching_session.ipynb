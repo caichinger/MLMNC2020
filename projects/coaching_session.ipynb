{
 "cells": [
  {
   "cell_type": "markdown",
   "metadata": {
    "slideshow": {
     "slide_type": "slide"
    }
   },
   "source": [
    "# Coaching Session\n",
    "\n",
    "Notes, aspects, questions covered during the coaching session."
   ]
  },
  {
   "cell_type": "markdown",
   "metadata": {
    "slideshow": {
     "slide_type": "slide"
    }
   },
   "source": [
    "# Business Perspective\n",
    "\n",
    "- Frame you problem in business terms\n",
    "- From a business perspective\n",
    "    - What are your requirments?\n",
    "    - What are the implications of a working/failing model?\n",
    "    - ...\n",
    "- ...\n",
    "\n",
    "Put your work in a context."
   ]
  },
  {
   "cell_type": "markdown",
   "metadata": {
    "slideshow": {
     "slide_type": "slide"
    }
   },
   "source": [
    "# Project Report Template\n",
    "\n",
    "Do not forget: There is a minimal template for the project report\n",
    "    \n",
    "https://github.com/caichinger/MLMNC2020/tree/master/projects#report\n",
    "    \n",
    "Feel free to devise you own but make sure you cover the aspects mentioned in the template."
   ]
  },
  {
   "cell_type": "markdown",
   "metadata": {
    "slideshow": {
     "slide_type": "slide"
    }
   },
   "source": [
    "# Notebooks\n",
    "\n",
    "When you share a notebook with us, make sure it can be accessed by anyone with the link."
   ]
  },
  {
   "cell_type": "markdown",
   "metadata": {
    "slideshow": {
     "slide_type": "slide"
    }
   },
   "source": [
    "# Inference vs. Prediction\n",
    "\n",
    "- Inference = Understand what is going on?\n",
    "- Prediction = What happens if?\n",
    "\n",
    "Albeit related, these are different questions."
   ]
  },
  {
   "cell_type": "markdown",
   "metadata": {
    "slideshow": {
     "slide_type": "slide"
    }
   },
   "source": [
    "# Feature Scaling\n",
    "\n",
    "Not in general but in our context:\n",
    "\n",
    "Feature scaling is relevant if you use a linear model and want to infer variable importance based on the coefficients."
   ]
  },
  {
   "cell_type": "markdown",
   "metadata": {
    "slideshow": {
     "slide_type": "slide"
    }
   },
   "source": [
    "# Categorical Data\n",
    "\n",
    "We need to convert/transform non-numerical variables into numerical variables.\n",
    "\n",
    "There are different approaches to do that.\n",
    "\n",
    "Only if your model cannot handle categorical data, we need one-hot-encoding. For example, tree-based models can deal with categorical data but linear-regression-based models cannot."
   ]
  }
 ],
 "metadata": {
  "celltoolbar": "Slideshow",
  "kernelspec": {
   "display_name": "Python 3",
   "language": "python",
   "name": "python3"
  },
  "language_info": {
   "codemirror_mode": {
    "name": "ipython",
    "version": 3
   },
   "file_extension": ".py",
   "mimetype": "text/x-python",
   "name": "python",
   "nbconvert_exporter": "python",
   "pygments_lexer": "ipython3",
   "version": "3.8.5"
  }
 },
 "nbformat": 4,
 "nbformat_minor": 2
}
