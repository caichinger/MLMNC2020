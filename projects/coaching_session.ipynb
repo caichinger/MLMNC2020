{
 "cells": [
  {
   "cell_type": "markdown",
   "metadata": {
    "slideshow": {
     "slide_type": "slide"
    }
   },
   "source": [
    "# Coaching Session\n",
    "\n",
    "Notes, aspects, questions covered during the coaching session."
   ]
  },
  {
   "cell_type": "markdown",
   "metadata": {
    "slideshow": {
     "slide_type": "slide"
    }
   },
   "source": [
    "# Business Perspective\n",
    "\n",
    "- Frame you problem in business terms\n",
    "- From a business perspective\n",
    "    - What are your requirments?\n",
    "    - What are the implications of a working/failing model?\n",
    "    - ...\n",
    "- ...\n",
    "\n",
    "Put your work in a context."
   ]
  },
  {
   "cell_type": "markdown",
   "metadata": {
    "slideshow": {
     "slide_type": "slide"
    }
   },
   "source": [
    "# Project Report Template\n",
    "\n",
    "Do not forget: There is a minimal template for the project report\n",
    "    \n",
    "https://github.com/caichinger/MLMNC2020/tree/master/projects#report\n",
    "    \n",
    "Feel free to devise you own but make sure you cover the aspects mentioned in the template."
   ]
  },
  {
   "cell_type": "markdown",
   "metadata": {
    "slideshow": {
     "slide_type": "slide"
    }
   },
   "source": [
    "# Notebooks\n",
    "\n",
    "When you share a notebook with us, make sure it can be accessed by anyone with the link."
   ]
  },
  {
   "cell_type": "markdown",
   "metadata": {
    "slideshow": {
     "slide_type": "slide"
    }
   },
   "source": [
    "# Inference vs. Prediction\n",
    "\n",
    "- Inference = Understand what is going on?\n",
    "- Prediction = What happens if?\n",
    "\n",
    "Albeit related, these are different questions."
   ]
  },
  {
   "cell_type": "markdown",
   "metadata": {
    "slideshow": {
     "slide_type": "slide"
    }
   },
   "source": [
    "# Feature Scaling\n",
    "\n",
    "Not in general but in our context.\n",
    "\n",
    "Feature scaling is relevant if you use a linear model and want to infer variable importance based on the coefficients.\n",
    "\n",
    "For kNN see below."
   ]
  },
  {
   "cell_type": "markdown",
   "metadata": {
    "slideshow": {
     "slide_type": "slide"
    }
   },
   "source": [
    "# Non-Numerical Data & Categorical Data I\n",
    "\n",
    "Clearly, we need to convert/transform non-numerical variables into numerical variables.\n",
    "There are different approaches to do that.\n",
    "\n",
    "Whenever a variable only takes discrete values, we say it is categorical.\n",
    "\n",
    "Some models, such as tree-based-models, can directly handel categorical data.\n",
    "Others, like linear-regression-based-models, cannot. In the latter case, we need one-hot-encoding.\n",
    "\n",
    "For kNN see below.\n",
    "\n",
    "---\n",
    "\n",
    "Albeit similar, turning non-numerical data into numerical one and encoding catorical data are not the same."
   ]
  },
  {
   "cell_type": "markdown",
   "metadata": {
    "slideshow": {
     "slide_type": "slide"
    }
   },
   "source": [
    "# kNN\n",
    "\n",
    "The \"near\" in k nearest neighbors implies that we are able to compute distance between points. How do we compute distances when we have a mix of real-valued and integer- or boolean-valued variables? That is a bit tricky. If you want to use kNN, to keep it simple, go for one-hot-encoding, feature scaling and stick to the default metric in the model."
   ]
  },
  {
   "cell_type": "markdown",
   "metadata": {},
   "source": [
    "# Variable Selection\n",
    "\n",
    "- In a prediction (!, not inference) task it is fine to use all variables available as long the model \n",
    "  is properly devised and evaluated.\n",
    "- Run your first analysis using all (reasonable) variables available.\n",
    "- If you decide to drop a variable, provide an explanation.\n",
    "- Assess the impact of dropping a variable by comparing model performance with and without the variable.\n",
    "- There may well be reasons to prefer a smaller variable set, discuss these as you see fit."
   ]
  },
  {
   "cell_type": "markdown",
   "metadata": {
    "slideshow": {
     "slide_type": "slide"
    }
   },
   "source": [
    "# Model Choice\n",
    "\n",
    "- At least 2 models, ideally 3 for comparison.\n",
    "- If you want to apply more models, feel free to do that but do not use models without \n",
    "  proper hyperparameter optimization and evaluation.\n",
    "- Start with a simple model to go through the entire process, then iterate.\n",
    "\n",
    "---\n",
    "\n",
    "We focus on a sound procedure and proper evaluation of the models from a business point of view. We do not aim for the \"perfect\" model."
   ]
  },
  {
   "cell_type": "markdown",
   "metadata": {
    "slideshow": {
     "slide_type": "slide"
    }
   },
   "source": [
    "# Non-Numerical Data & Categorical Data II"
   ]
  },
  {
   "cell_type": "code",
   "execution_count": 1,
   "metadata": {
    "slideshow": {
     "slide_type": "-"
    }
   },
   "outputs": [
    {
     "data": {
      "text/html": [
       "<div>\n",
       "<style scoped>\n",
       "    .dataframe tbody tr th:only-of-type {\n",
       "        vertical-align: middle;\n",
       "    }\n",
       "\n",
       "    .dataframe tbody tr th {\n",
       "        vertical-align: top;\n",
       "    }\n",
       "\n",
       "    .dataframe thead th {\n",
       "        text-align: right;\n",
       "    }\n",
       "</style>\n",
       "<table border=\"1\" class=\"dataframe\">\n",
       "  <thead>\n",
       "    <tr style=\"text-align: right;\">\n",
       "      <th></th>\n",
       "      <th>real_valued</th>\n",
       "      <th>string_valued</th>\n",
       "      <th>integer_valued</th>\n",
       "      <th>boolean_values</th>\n",
       "    </tr>\n",
       "  </thead>\n",
       "  <tbody>\n",
       "    <tr>\n",
       "      <th>0</th>\n",
       "      <td>0.1</td>\n",
       "      <td>:)</td>\n",
       "      <td>-1</td>\n",
       "      <td>True</td>\n",
       "    </tr>\n",
       "    <tr>\n",
       "      <th>1</th>\n",
       "      <td>0.2</td>\n",
       "      <td>:)</td>\n",
       "      <td>0</td>\n",
       "      <td>False</td>\n",
       "    </tr>\n",
       "    <tr>\n",
       "      <th>2</th>\n",
       "      <td>0.3</td>\n",
       "      <td>:(</td>\n",
       "      <td>1</td>\n",
       "      <td>True</td>\n",
       "    </tr>\n",
       "    <tr>\n",
       "      <th>3</th>\n",
       "      <td>10.0</td>\n",
       "      <td>:|</td>\n",
       "      <td>2</td>\n",
       "      <td>False</td>\n",
       "    </tr>\n",
       "  </tbody>\n",
       "</table>\n",
       "</div>"
      ],
      "text/plain": [
       "   real_valued string_valued  integer_valued  boolean_values\n",
       "0          0.1            :)              -1            True\n",
       "1          0.2            :)               0           False\n",
       "2          0.3            :(               1            True\n",
       "3         10.0            :|               2           False"
      ]
     },
     "execution_count": 1,
     "metadata": {},
     "output_type": "execute_result"
    }
   ],
   "source": [
    "import pandas as pd\n",
    "\n",
    "\n",
    "df = pd.DataFrame({\n",
    "    'real_valued': [0.1, 0.2, 0.3, 10], \n",
    "    'string_valued': [':)', ':)', ':(', ':|'],\n",
    "    'integer_valued': [-1, 0, 1, 2],\n",
    "    'boolean_values': [True, False, True, False],\n",
    "})\n",
    "df"
   ]
  },
  {
   "cell_type": "code",
   "execution_count": 2,
   "metadata": {},
   "outputs": [
    {
     "data": {
      "text/plain": [
       "real_valued       float64\n",
       "string_valued      object\n",
       "integer_valued      int64\n",
       "boolean_values       bool\n",
       "dtype: object"
      ]
     },
     "execution_count": 2,
     "metadata": {},
     "output_type": "execute_result"
    }
   ],
   "source": [
    "df.dtypes"
   ]
  },
  {
   "cell_type": "markdown",
   "metadata": {},
   "source": [
    "## Non-Numerical --> Numerical\n",
    "\n",
    "If you have any non-numerical variables in your data, \n",
    "you need to perform this conversion."
   ]
  },
  {
   "cell_type": "code",
   "execution_count": 3,
   "metadata": {},
   "outputs": [
    {
     "data": {
      "text/html": [
       "<div>\n",
       "<style scoped>\n",
       "    .dataframe tbody tr th:only-of-type {\n",
       "        vertical-align: middle;\n",
       "    }\n",
       "\n",
       "    .dataframe tbody tr th {\n",
       "        vertical-align: top;\n",
       "    }\n",
       "\n",
       "    .dataframe thead th {\n",
       "        text-align: right;\n",
       "    }\n",
       "</style>\n",
       "<table border=\"1\" class=\"dataframe\">\n",
       "  <thead>\n",
       "    <tr style=\"text-align: right;\">\n",
       "      <th></th>\n",
       "      <th>real_valued</th>\n",
       "      <th>string_valued</th>\n",
       "      <th>integer_valued</th>\n",
       "      <th>boolean_values</th>\n",
       "    </tr>\n",
       "  </thead>\n",
       "  <tbody>\n",
       "    <tr>\n",
       "      <th>0</th>\n",
       "      <td>0.1</td>\n",
       "      <td>1</td>\n",
       "      <td>-1</td>\n",
       "      <td>1</td>\n",
       "    </tr>\n",
       "    <tr>\n",
       "      <th>1</th>\n",
       "      <td>0.2</td>\n",
       "      <td>1</td>\n",
       "      <td>0</td>\n",
       "      <td>0</td>\n",
       "    </tr>\n",
       "    <tr>\n",
       "      <th>2</th>\n",
       "      <td>0.3</td>\n",
       "      <td>-1</td>\n",
       "      <td>1</td>\n",
       "      <td>1</td>\n",
       "    </tr>\n",
       "    <tr>\n",
       "      <th>3</th>\n",
       "      <td>10.0</td>\n",
       "      <td>0</td>\n",
       "      <td>2</td>\n",
       "      <td>0</td>\n",
       "    </tr>\n",
       "  </tbody>\n",
       "</table>\n",
       "</div>"
      ],
      "text/plain": [
       "   real_valued  string_valued  integer_valued  boolean_values\n",
       "0          0.1              1              -1               1\n",
       "1          0.2              1               0               0\n",
       "2          0.3             -1               1               1\n",
       "3         10.0              0               2               0"
      ]
     },
     "execution_count": 3,
     "metadata": {},
     "output_type": "execute_result"
    }
   ],
   "source": [
    "# one way to turn non-numerical data into numerical data\n",
    "# as an example, we specify all mappings at once\n",
    "# for boolean_values we do not need to perform the conversion this way but it is okay\n",
    "value_mappings = {\n",
    "    'string_valued': {':)': 1, ':|': 0, ':(': -1}, \n",
    "    'boolean_values': {True: 1, False: 0}  \n",
    "}\n",
    "df_numerical = df.copy()\n",
    "for column, value_mapping in value_mappings.items():\n",
    "    df_numerical[column] = df_numerical[column].replace(value_mapping)\n",
    "df_numerical"
   ]
  },
  {
   "cell_type": "code",
   "execution_count": 4,
   "metadata": {},
   "outputs": [
    {
     "data": {
      "text/plain": [
       "real_valued       float64\n",
       "string_valued       int64\n",
       "integer_valued      int64\n",
       "boolean_values      int64\n",
       "dtype: object"
      ]
     },
     "execution_count": 4,
     "metadata": {},
     "output_type": "execute_result"
    }
   ],
   "source": [
    "df_numerical.dtypes  # note that all but real_valued are categorical data"
   ]
  },
  {
   "cell_type": "markdown",
   "metadata": {},
   "source": [
    "## Categorical --> One-Hot-Encoded\n",
    "\n",
    "Does your model require one-hot-encoded data?"
   ]
  },
  {
   "cell_type": "code",
   "execution_count": 5,
   "metadata": {},
   "outputs": [],
   "source": [
    "from sklearn.preprocessing import OneHotEncoder"
   ]
  },
  {
   "cell_type": "code",
   "execution_count": 6,
   "metadata": {},
   "outputs": [
    {
     "data": {
      "text/plain": [
       "<4x9 sparse matrix of type '<class 'numpy.float64'>'\n",
       "\twith 11 stored elements in Compressed Sparse Row format>"
      ]
     },
     "execution_count": 6,
     "metadata": {},
     "output_type": "execute_result"
    }
   ],
   "source": [
    "# DO NOT DO THIS IF YOU HAVE MIXED REAL VALUED AND CATEGORICAL DATA\n",
    "enc = OneHotEncoder(drop='first')\n",
    "one_hot = enc.fit_transform(df_numerical)\n",
    "one_hot"
   ]
  },
  {
   "cell_type": "code",
   "execution_count": 7,
   "metadata": {},
   "outputs": [
    {
     "data": {
      "text/html": [
       "<div>\n",
       "<style scoped>\n",
       "    .dataframe tbody tr th:only-of-type {\n",
       "        vertical-align: middle;\n",
       "    }\n",
       "\n",
       "    .dataframe tbody tr th {\n",
       "        vertical-align: top;\n",
       "    }\n",
       "\n",
       "    .dataframe thead th {\n",
       "        text-align: right;\n",
       "    }\n",
       "</style>\n",
       "<table border=\"1\" class=\"dataframe\">\n",
       "  <thead>\n",
       "    <tr style=\"text-align: right;\">\n",
       "      <th></th>\n",
       "      <th>real_valued_0.2</th>\n",
       "      <th>real_valued_0.3</th>\n",
       "      <th>real_valued_10.0</th>\n",
       "      <th>string_valued_0</th>\n",
       "      <th>string_valued_1</th>\n",
       "      <th>integer_valued_0</th>\n",
       "      <th>integer_valued_1</th>\n",
       "      <th>integer_valued_2</th>\n",
       "      <th>boolean_values_1</th>\n",
       "    </tr>\n",
       "  </thead>\n",
       "  <tbody>\n",
       "    <tr>\n",
       "      <th>0</th>\n",
       "      <td>0.0</td>\n",
       "      <td>0.0</td>\n",
       "      <td>0.0</td>\n",
       "      <td>0.0</td>\n",
       "      <td>1.0</td>\n",
       "      <td>0.0</td>\n",
       "      <td>0.0</td>\n",
       "      <td>0.0</td>\n",
       "      <td>1.0</td>\n",
       "    </tr>\n",
       "    <tr>\n",
       "      <th>1</th>\n",
       "      <td>1.0</td>\n",
       "      <td>0.0</td>\n",
       "      <td>0.0</td>\n",
       "      <td>0.0</td>\n",
       "      <td>1.0</td>\n",
       "      <td>1.0</td>\n",
       "      <td>0.0</td>\n",
       "      <td>0.0</td>\n",
       "      <td>0.0</td>\n",
       "    </tr>\n",
       "    <tr>\n",
       "      <th>2</th>\n",
       "      <td>0.0</td>\n",
       "      <td>1.0</td>\n",
       "      <td>0.0</td>\n",
       "      <td>0.0</td>\n",
       "      <td>0.0</td>\n",
       "      <td>0.0</td>\n",
       "      <td>1.0</td>\n",
       "      <td>0.0</td>\n",
       "      <td>1.0</td>\n",
       "    </tr>\n",
       "    <tr>\n",
       "      <th>3</th>\n",
       "      <td>0.0</td>\n",
       "      <td>0.0</td>\n",
       "      <td>1.0</td>\n",
       "      <td>1.0</td>\n",
       "      <td>0.0</td>\n",
       "      <td>0.0</td>\n",
       "      <td>0.0</td>\n",
       "      <td>1.0</td>\n",
       "      <td>0.0</td>\n",
       "    </tr>\n",
       "  </tbody>\n",
       "</table>\n",
       "</div>"
      ],
      "text/plain": [
       "   real_valued_0.2  real_valued_0.3  real_valued_10.0  string_valued_0  \\\n",
       "0              0.0              0.0               0.0              0.0   \n",
       "1              1.0              0.0               0.0              0.0   \n",
       "2              0.0              1.0               0.0              0.0   \n",
       "3              0.0              0.0               1.0              1.0   \n",
       "\n",
       "   string_valued_1  integer_valued_0  integer_valued_1  integer_valued_2  \\\n",
       "0              1.0               0.0               0.0               0.0   \n",
       "1              1.0               1.0               0.0               0.0   \n",
       "2              0.0               0.0               1.0               0.0   \n",
       "3              0.0               0.0               0.0               1.0   \n",
       "\n",
       "   boolean_values_1  \n",
       "0               1.0  \n",
       "1               0.0  \n",
       "2               1.0  \n",
       "3               0.0  "
      ]
     },
     "execution_count": 7,
     "metadata": {},
     "output_type": "execute_result"
    }
   ],
   "source": [
    "df_one_hot = pd.DataFrame(\n",
    "    one_hot.toarray(), \n",
    "    columns=enc.get_feature_names(df_numerical.columns)\n",
    ")\n",
    "# as you see, one-hot-encoding everything converts real_valued as well\n",
    "df_one_hot"
   ]
  },
  {
   "cell_type": "code",
   "execution_count": 8,
   "metadata": {},
   "outputs": [],
   "source": [
    "# DO THIS\n",
    "reals = ['real_valued']\n",
    "categoricals = ['string_valued', 'integer_valued', 'boolean_values']\n",
    "\n",
    "df_real = df_numerical[reals]\n",
    "df_categorical = df_numerical[categoricals]"
   ]
  },
  {
   "cell_type": "code",
   "execution_count": 9,
   "metadata": {},
   "outputs": [
    {
     "data": {
      "text/html": [
       "<div>\n",
       "<style scoped>\n",
       "    .dataframe tbody tr th:only-of-type {\n",
       "        vertical-align: middle;\n",
       "    }\n",
       "\n",
       "    .dataframe tbody tr th {\n",
       "        vertical-align: top;\n",
       "    }\n",
       "\n",
       "    .dataframe thead th {\n",
       "        text-align: right;\n",
       "    }\n",
       "</style>\n",
       "<table border=\"1\" class=\"dataframe\">\n",
       "  <thead>\n",
       "    <tr style=\"text-align: right;\">\n",
       "      <th></th>\n",
       "      <th>string_valued_0</th>\n",
       "      <th>string_valued_1</th>\n",
       "      <th>integer_valued_0</th>\n",
       "      <th>integer_valued_1</th>\n",
       "      <th>integer_valued_2</th>\n",
       "      <th>boolean_values_1</th>\n",
       "    </tr>\n",
       "  </thead>\n",
       "  <tbody>\n",
       "    <tr>\n",
       "      <th>0</th>\n",
       "      <td>0.0</td>\n",
       "      <td>1.0</td>\n",
       "      <td>0.0</td>\n",
       "      <td>0.0</td>\n",
       "      <td>0.0</td>\n",
       "      <td>1.0</td>\n",
       "    </tr>\n",
       "    <tr>\n",
       "      <th>1</th>\n",
       "      <td>0.0</td>\n",
       "      <td>1.0</td>\n",
       "      <td>1.0</td>\n",
       "      <td>0.0</td>\n",
       "      <td>0.0</td>\n",
       "      <td>0.0</td>\n",
       "    </tr>\n",
       "    <tr>\n",
       "      <th>2</th>\n",
       "      <td>0.0</td>\n",
       "      <td>0.0</td>\n",
       "      <td>0.0</td>\n",
       "      <td>1.0</td>\n",
       "      <td>0.0</td>\n",
       "      <td>1.0</td>\n",
       "    </tr>\n",
       "    <tr>\n",
       "      <th>3</th>\n",
       "      <td>1.0</td>\n",
       "      <td>0.0</td>\n",
       "      <td>0.0</td>\n",
       "      <td>0.0</td>\n",
       "      <td>1.0</td>\n",
       "      <td>0.0</td>\n",
       "    </tr>\n",
       "  </tbody>\n",
       "</table>\n",
       "</div>"
      ],
      "text/plain": [
       "   string_valued_0  string_valued_1  integer_valued_0  integer_valued_1  \\\n",
       "0              0.0              1.0               0.0               0.0   \n",
       "1              0.0              1.0               1.0               0.0   \n",
       "2              0.0              0.0               0.0               1.0   \n",
       "3              1.0              0.0               0.0               0.0   \n",
       "\n",
       "   integer_valued_2  boolean_values_1  \n",
       "0               0.0               1.0  \n",
       "1               0.0               0.0  \n",
       "2               0.0               1.0  \n",
       "3               1.0               0.0  "
      ]
     },
     "execution_count": 9,
     "metadata": {},
     "output_type": "execute_result"
    }
   ],
   "source": [
    "enc = OneHotEncoder(drop='first')\n",
    "one_hot = enc.fit_transform(df_categorical)\n",
    "df_categorical_one_hot = pd.DataFrame(\n",
    "    one_hot.toarray(), \n",
    "    columns=enc.get_feature_names(df_categorical.columns)\n",
    ")\n",
    "# as you see, one-hot-encoding everything converts real_valued as well\n",
    "df_categorical_one_hot"
   ]
  },
  {
   "cell_type": "code",
   "execution_count": 10,
   "metadata": {},
   "outputs": [
    {
     "data": {
      "text/html": [
       "<div>\n",
       "<style scoped>\n",
       "    .dataframe tbody tr th:only-of-type {\n",
       "        vertical-align: middle;\n",
       "    }\n",
       "\n",
       "    .dataframe tbody tr th {\n",
       "        vertical-align: top;\n",
       "    }\n",
       "\n",
       "    .dataframe thead th {\n",
       "        text-align: right;\n",
       "    }\n",
       "</style>\n",
       "<table border=\"1\" class=\"dataframe\">\n",
       "  <thead>\n",
       "    <tr style=\"text-align: right;\">\n",
       "      <th></th>\n",
       "      <th>real_valued</th>\n",
       "      <th>string_valued_0</th>\n",
       "      <th>string_valued_1</th>\n",
       "      <th>integer_valued_0</th>\n",
       "      <th>integer_valued_1</th>\n",
       "      <th>integer_valued_2</th>\n",
       "      <th>boolean_values_1</th>\n",
       "    </tr>\n",
       "  </thead>\n",
       "  <tbody>\n",
       "    <tr>\n",
       "      <th>0</th>\n",
       "      <td>0.1</td>\n",
       "      <td>0.0</td>\n",
       "      <td>1.0</td>\n",
       "      <td>0.0</td>\n",
       "      <td>0.0</td>\n",
       "      <td>0.0</td>\n",
       "      <td>1.0</td>\n",
       "    </tr>\n",
       "    <tr>\n",
       "      <th>1</th>\n",
       "      <td>0.2</td>\n",
       "      <td>0.0</td>\n",
       "      <td>1.0</td>\n",
       "      <td>1.0</td>\n",
       "      <td>0.0</td>\n",
       "      <td>0.0</td>\n",
       "      <td>0.0</td>\n",
       "    </tr>\n",
       "    <tr>\n",
       "      <th>2</th>\n",
       "      <td>0.3</td>\n",
       "      <td>0.0</td>\n",
       "      <td>0.0</td>\n",
       "      <td>0.0</td>\n",
       "      <td>1.0</td>\n",
       "      <td>0.0</td>\n",
       "      <td>1.0</td>\n",
       "    </tr>\n",
       "    <tr>\n",
       "      <th>3</th>\n",
       "      <td>10.0</td>\n",
       "      <td>1.0</td>\n",
       "      <td>0.0</td>\n",
       "      <td>0.0</td>\n",
       "      <td>0.0</td>\n",
       "      <td>1.0</td>\n",
       "      <td>0.0</td>\n",
       "    </tr>\n",
       "  </tbody>\n",
       "</table>\n",
       "</div>"
      ],
      "text/plain": [
       "   real_valued  string_valued_0  string_valued_1  integer_valued_0  \\\n",
       "0          0.1              0.0              1.0               0.0   \n",
       "1          0.2              0.0              1.0               1.0   \n",
       "2          0.3              0.0              0.0               0.0   \n",
       "3         10.0              1.0              0.0               0.0   \n",
       "\n",
       "   integer_valued_1  integer_valued_2  boolean_values_1  \n",
       "0               0.0               0.0               1.0  \n",
       "1               0.0               0.0               0.0  \n",
       "2               1.0               0.0               1.0  \n",
       "3               0.0               1.0               0.0  "
      ]
     },
     "execution_count": 10,
     "metadata": {},
     "output_type": "execute_result"
    }
   ],
   "source": [
    "df_transformed = pd.concat([df_real, df_categorical_one_hot], axis=1)\n",
    "df_transformed"
   ]
  }
 ],
 "metadata": {
  "celltoolbar": "Slideshow",
  "kernelspec": {
   "display_name": "Python 3",
   "language": "python",
   "name": "python3"
  },
  "language_info": {
   "codemirror_mode": {
    "name": "ipython",
    "version": 3
   },
   "file_extension": ".py",
   "mimetype": "text/x-python",
   "name": "python",
   "nbconvert_exporter": "python",
   "pygments_lexer": "ipython3",
   "version": "3.8.5"
  }
 },
 "nbformat": 4,
 "nbformat_minor": 2
}
